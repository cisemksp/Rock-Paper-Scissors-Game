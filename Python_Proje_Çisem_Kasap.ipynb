{
  "nbformat": 4,
  "nbformat_minor": 0,
  "metadata": {
    "colab": {
      "provenance": []
    },
    "kernelspec": {
      "name": "python3",
      "display_name": "Python 3"
    },
    "language_info": {
      "name": "python"
    }
  },
  "cells": [
    {
      "cell_type": "markdown",
      "source": [
        "Rock-Paper-Scissors Game Project for Aygaz Python Bootcamp\n",
        "\n",
        "Projede izlenecek yol:\n",
        "1. Oyun Tanıtımı\n",
        "2. Oyun Kurulumu\n",
        "3. Oyunun Ana Döngüsü\n",
        "4. Turların Döngüsü\n",
        "5. Oyun Galibi Belirleme\n",
        "6. Yeniden Oynama İsteği"
      ],
      "metadata": {
        "id": "4wPgjO1WsYIk"
      }
    },
    {
      "cell_type": "code",
      "execution_count": 39,
      "metadata": {
        "colab": {
          "base_uri": "https://localhost:8080/",
          "height": 106
        },
        "id": "gf_wyqcUsEbn",
        "outputId": "f60315cc-eb79-4d10-97f8-cd526bfb6a4f"
      },
      "outputs": [
        {
          "output_type": "error",
          "ename": "SyntaxError",
          "evalue": "invalid syntax (<ipython-input-39-a7125b34bab6>, line 50)",
          "traceback": [
            "\u001b[0;36m  File \u001b[0;32m\"<ipython-input-39-a7125b34bab6>\"\u001b[0;36m, line \u001b[0;32m50\u001b[0m\n\u001b[0;31m    elif computer_choice == 'Paper':\u001b[0m\n\u001b[0m    ^\u001b[0m\n\u001b[0;31mSyntaxError\u001b[0m\u001b[0;31m:\u001b[0m invalid syntax\n"
          ]
        }
      ],
      "source": [
        "#Define Function\n",
        "def tas_kagit_makas_cisem_kasap():\n",
        "  import random\n",
        "  #Message/Oyun Tanıtımı\n",
        "  print(\"\"\"Welcome to the Rock-Paper-Scissors Game! In this game you will compute against the computer!\n",
        "  Here are the rules:\n",
        "  1.Rock beats Scissors --> because rock crushes scissors\n",
        "  2.Scissors beats Paper --> because scissors cuts paper\n",
        "  3.Paper beats Rock --> because paper covers rock\n",
        "  4. If both players choose the same option, it is a tie\n",
        "  Choose either Rock, Paper, Scissors to play.\n",
        "  Let's see who wins!\n",
        "  Note: If you don't want to play write 'exit'\"\"\")\n",
        "#Define game option list, player scores and choices/ Oyun Kurulumu\n",
        "  options = ['Rock','Paper','Scissors']\n",
        "  computer_score = 0\n",
        "  player_score= 0\n",
        "  round_num = 0\n",
        "  game_num = 0\n",
        "  round_choice = int(input(\"How many rounds you want to play?\"))\n",
        "  player_choice = input(\"Rock-Paper-Scissors: \")\n",
        "\n",
        "#Scenarios\n",
        "  if player_choice == 'exit':\n",
        "    print(\"Okay. Maybe next time, have a great day! :)\")\n",
        "  else :\n",
        "    print(\"Invalid choice.\")\n",
        "    player_choice = input(\"Please write one of the options,Rock,Paper or Scissors: \")\n",
        "\n",
        "#Start the Game/ Oyun Ana Döngüsü\n",
        "  while True:\n",
        "    round_num += 1\n",
        "    game_num += 1\n",
        "    print(f\"GAME {game_num} | ROUND NU.{round_num}\")\n",
        "\n",
        "    computer_choice = random.choice(options)\n",
        "    print(f\"Computer: {computer_choice}\")\n",
        "#If statements\n",
        "    if computer_choice == player_choice:\n",
        "      print(\"Tie!\")\n",
        "\n",
        "    elif computer_choice == 'Rock':\n",
        "      if player_choice == 'Paper':\n",
        "         print(\"Winner of this round is player!\")\n",
        "         player_score += 1\n",
        "    else:\n",
        "      print(\"Winner of this round is computer!\")\n",
        "      computer_score += 1\n",
        "\n",
        "    elif computer_choice == 'Paper':\n",
        "       if player_choice == 'Scissors':\n",
        "          print(\"Winner of this round is player!\")\n",
        "          player_score += 1\n",
        "    else:\n",
        "        print(\"Winner of this round is computer!\")\n",
        "        computer_score +=1\n",
        "\n",
        "    elif computer_choice == 'Scissors':\n",
        "       if player_choice == 'Rock':\n",
        "        print(\"Winner of this round is player!\")\n",
        "        player_score += 1\n",
        "    else:\n",
        "       print(\"Winner of this round is computer!\")\n",
        "       computer_score += 1\n",
        "\n",
        "    if round_choice == round_num:\n",
        "      break\n",
        "\n",
        "#Winner of game\n",
        "  if player_score == computer_score:\n",
        "    print(f\"No winners! Player : {player_score}, Computer : {computer_score}\")\n",
        "  elif player_score > computer_score:\n",
        "    print(f\"Player won the game! Player: {player_score}, Computer: {computer_score}\")\n",
        "  else\n",
        "  print(f\"Computer won the game! Player: {player_score}, Computer: {computer_score}\")\n",
        "\n",
        "#One more or enough\n",
        "  game_choice = input(\"Do you want to keep playing Rock-Paper-Scissors Game? Enter Y for yes or N for no, Y/N: \")\n",
        "  computer_game_choice = random.game_choice()\n",
        "  print(f\"Computer says {computer_game_choice}\")\n",
        "  if game_choice == 'Y' and computer_game_choice == 'Y':\n",
        "     True\n",
        "  else:\n",
        "    False"
      ]
    },
    {
      "cell_type": "code",
      "source": [
        "tas_kagit_makas_cisem_kasap()"
      ],
      "metadata": {
        "colab": {
          "base_uri": "https://localhost:8080/"
        },
        "id": "NLe1yzJ1v5Xv",
        "outputId": "39bc3f76-65f5-4811-cd7f-7aff6dcabe5f"
      },
      "execution_count": 33,
      "outputs": [
        {
          "name": "stdout",
          "output_type": "stream",
          "text": [
            "Welcome to the Rock-Paper-Scissors Game! In this game you will compute against the computer!\n",
            "  Here are the rules: \n",
            "  1.Rock beats Scissors --> because rock crushes scissors\n",
            "  2.Scissors beats Paper --> because scissors cuts paper\n",
            "  3.Paper beats Rock --> because paper covers rock\n",
            "  4. If both players choose the same option, it is a tie\n",
            "  Choose either Rock, Paper, Scissors to play.\n",
            "  Let's see who wins!\n",
            "  Note: If you don't want to play write 'exit'\n",
            "If you want to play Rock-paper-scissors game enter one of them, or write 'exit' to quit: rck\n",
            "Invalid choice.\n",
            "Please write one of the options,rock,paper or scissors: ppr\n"
          ]
        }
      ]
    }
  ]
}